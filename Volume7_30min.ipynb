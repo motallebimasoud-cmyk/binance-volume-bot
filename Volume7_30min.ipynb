{
  "cells": [
    {
      "cell_type": "markdown",
      "metadata": {
        "id": "view-in-github",
        "colab_type": "text"
      },
      "source": [
        "<a href=\"https://colab.research.google.com/github/motallebimasoud-cmyk/binance-volume-bot/blob/main/Volume7_30min.ipynb\" target=\"_parent\"><img src=\"https://colab.research.google.com/assets/colab-badge.svg\" alt=\"Open In Colab\"/></a>"
      ]
    },
    {
      "cell_type": "code",
      "source": [
        "import requests\n",
        "import time\n",
        "from datetime import datetime\n",
        "\n",
        "# -------------------------------\n",
        "# تنظیمات تلگرام\n",
        "# -------------------------------\n",
        "TELEGRAM_TOKEN = \"8421847126:AAF8DyYSO76IBzQ8IY7tV7SC0qzzcT6-T20\"\n",
        "CHAT_ID = \"953826363\"\n",
        "\n",
        "def send_telegram(message: str):\n",
        "    url = f\"https://api.telegram.org/bot{TELEGRAM_TOKEN}/sendMessage\"\n",
        "    data = {\"chat_id\": CHAT_ID, \"text\": message}\n",
        "    try:\n",
        "        requests.post(url, data=data, timeout=10)\n",
        "    except Exception as e:\n",
        "        print(\"❌ Telegram Error:\", e)\n",
        "\n",
        "# -------------------------------\n",
        "# گرفتن لیست همه مارکت‌های USDT از KuCoin\n",
        "# -------------------------------\n",
        "def get_markets():\n",
        "    url = \"https://api.kucoin.com/api/v1/symbols\"\n",
        "    try:\n",
        "        r = requests.get(url, timeout=10).json()\n",
        "        if r[\"code\"] == \"200000\":\n",
        "            return [m[\"symbol\"] for m in r[\"data\"] if m[\"symbol\"].endswith(\"USDT\")]\n",
        "    except Exception as e:\n",
        "        print(\"❌ Market Error:\", e)\n",
        "    return []\n",
        "\n",
        "# -------------------------------\n",
        "# داده کندل‌ها\n",
        "# -------------------------------\n",
        "def get_klines(symbol, interval=\"30min\", limit=21):\n",
        "    url = f\"https://api.kucoin.com/api/v1/market/candles\"\n",
        "    params = {\"symbol\": symbol, \"type\": interval}\n",
        "    try:\n",
        "        r = requests.get(url, params=params, timeout=10).json()\n",
        "        if r[\"code\"] == \"200000\":\n",
        "            return r[\"data\"][:limit][::-1]  # آخرین کندل‌ها (مرتب از قدیم به جدید)\n",
        "    except Exception as e:\n",
        "        print(f\"❌ Kline Error {symbol}:\", e)\n",
        "    return []\n",
        "\n",
        "# -------------------------------\n",
        "# چک کردن شرایط حجم + ارزش معاملات + رشد قیمت\n",
        "# -------------------------------\n",
        "def check_symbol(symbol):\n",
        "    klines = get_klines(symbol)\n",
        "    if not klines or len(klines) < 21:\n",
        "        return\n",
        "\n",
        "    # کندل‌ها\n",
        "    volumes = [float(k[5]) for k in klines]\n",
        "    last_volume = volumes[-1]\n",
        "    avg_volume = sum(volumes[:-1]) / 20\n",
        "\n",
        "    last_turnover = float(klines[-1][6])  # ارزش معاملات\n",
        "    last_open = float(klines[-1][1])      # قیمت باز شدن\n",
        "    last_close = float(klines[-1][2])     # قیمت بسته شدن\n",
        "\n",
        "    # درصد تغییر قیمت\n",
        "    price_change_pct = ((last_close - last_open) / last_open) * 100\n",
        "\n",
        "    # شرایط\n",
        "    if last_volume > avg_volume * 2.5 and last_turnover > 100000 and price_change_pct >= 1:\n",
        "        msg = (\n",
        "            f\"📊 KuCoin Alert\\n\"\n",
        "            f\"📈 حجم غیرعادی در {symbol}\\n\"\n",
        "            f\"⏰ تایم‌فریم: 30 دقیقه\\n\"\n",
        "            f\"حجم: {last_volume:,.0f}\\n\"\n",
        "            f\"میانگین 20 کندل: {avg_volume:,.0f}\\n\"\n",
        "            f\"💰 ارزش معاملات: {last_turnover:,.0f} USDT\\n\"\n",
        "            f\"📊 تغییر قیمت: {price_change_pct:.2f}%\\n\"\n",
        "            f\"🔗 https://www.kucoin.com/trade/{symbol.replace('-', '_')}\"\n",
        "        )\n",
        "        send_telegram(msg)\n",
        "        print(f\"✅ Alert sent for {symbol} | {price_change_pct:.2f}% | {last_turnover:,.0f} USDT\")\n",
        "\n",
        "# -------------------------------\n",
        "# اجرای همیشگی (۳۰ دقیقه‌ای)\n",
        "# -------------------------------\n",
        "while True:\n",
        "    try:\n",
        "        now = datetime.utcnow().strftime(\"%Y-%m-%d %H:%M:%S\")\n",
        "        markets = get_markets()\n",
        "        print(f\"\\n⏰ {now} | تعداد مارکت‌های USDT پیدا شد: {len(markets)}\")\n",
        "        for symbol in markets:\n",
        "            check_symbol(symbol)\n",
        "        print(\"🔎 چک همه مارکت‌ها انجام شد ✅\")\n",
        "    except Exception as e:\n",
        "        print(\"❌ Error:\", e)\n",
        "\n",
        "    time.sleep(1800)   # هر ۳۰ دقیقه"
      ],
      "metadata": {
        "colab": {
          "base_uri": "https://localhost:8080/"
        },
        "id": "kEjXbmAexf2Z",
        "outputId": "5b35698d-2fff-4922-a4d2-dc7c0d8bd233"
      },
      "execution_count": null,
      "outputs": [
        {
          "metadata": {
            "tags": null
          },
          "name": "stderr",
          "output_type": "stream",
          "text": [
            "/tmp/ipython-input-505546070.py:86: DeprecationWarning: datetime.datetime.utcnow() is deprecated and scheduled for removal in a future version. Use timezone-aware objects to represent datetimes in UTC: datetime.datetime.now(datetime.UTC).\n",
            "  now = datetime.utcnow().strftime(\"%Y-%m-%d %H:%M:%S\")\n"
          ]
        },
        {
          "output_type": "stream",
          "name": "stdout",
          "text": [
            "\n",
            "⏰ 2025-09-22 17:00:14 | تعداد مارکت‌های USDT پیدا شد: 1080\n",
            "🔎 چک همه مارکت‌ها انجام شد ✅\n",
            "\n",
            "⏰ 2025-09-22 17:35:30 | تعداد مارکت‌های USDT پیدا شد: 1080\n",
            "🔎 چک همه مارکت‌ها انجام شد ✅\n",
            "\n",
            "⏰ 2025-09-22 18:10:38 | تعداد مارکت‌های USDT پیدا شد: 1080\n",
            "🔎 چک همه مارکت‌ها انجام شد ✅\n"
          ]
        }
      ]
    }
  ],
  "metadata": {
    "colab": {
      "provenance": [],
      "authorship_tag": "ABX9TyMQRn9jqudnKaAX+MhP5Nqm",
      "include_colab_link": true
    },
    "kernelspec": {
      "display_name": "Python 3",
      "name": "python3"
    },
    "language_info": {
      "name": "python"
    }
  },
  "nbformat": 4,
  "nbformat_minor": 0
}