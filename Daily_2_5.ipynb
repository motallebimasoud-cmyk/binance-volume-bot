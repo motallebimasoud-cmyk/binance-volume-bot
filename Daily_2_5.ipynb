{
  "cells": [
    {
      "cell_type": "markdown",
      "metadata": {
        "id": "view-in-github",
        "colab_type": "text"
      },
      "source": [
        "<a href=\"https://colab.research.google.com/github/motallebimasoud-cmyk/binance-volume-bot/blob/main/Daily_2_5.ipynb\" target=\"_parent\"><img src=\"https://colab.research.google.com/assets/colab-badge.svg\" alt=\"Open In Colab\"/></a>"
      ]
    },
    {
      "cell_type": "code",
      "execution_count": null,
      "metadata": {
        "colab": {
          "background_save": true,
          "base_uri": "https://localhost:8080/"
        },
        "id": "mOVnSAc9gbZ7",
        "outputId": "25360605-615e-4679-db8c-da0ceaa57605"
      },
      "outputs": [
        {
          "name": "stdout",
          "output_type": "stream",
          "text": [
            "شروع بررسی: 2025-09-22 17:39:13.657526\n",
            "ارسال شد: SUN-USDT\n",
            "ارسال شد: ALPHA-USDT\n",
            "ارسال شد: LOOKS-USDT\n",
            "ارسال شد: SWEAT-USDT\n",
            "ارسال شد: LAVA-USDT\n",
            "ارسال شد: TUT-USDT\n",
            "ارسال شد: GORK-USDT\n",
            "ارسال شد: NAM-USDT\n",
            "پایان - صبر تا فردا\n"
          ]
        }
      ],
      "source": [
        "import requests\n",
        "import time\n",
        "import datetime\n",
        "\n",
        "# -------------------------------\n",
        "# تنظیمات تلگرام\n",
        "# -------------------------------\n",
        "TELEGRAM_TOKEN = \"8421847126:AAF8DyYSO76IBzQ8IY7tV7SC0qzzcT6-T20\"\n",
        "CHAT_ID = \"953826363\"\n",
        "\n",
        "# -------------------------------\n",
        "# تنظیمات فیلتر (قابل تغییر)\n",
        "# -------------------------------\n",
        "PRICE_CHANGE_MIN = 3       # حداقل درصد رشد قیمت (مثلاً 3٪)\n",
        "VOLUME_MULTIPLIER = 2.5    # چند برابر شدن حجم نسبت به میانگین (مثلاً 2.5 برابر)\n",
        "\n",
        "def send_telegram(message: str):\n",
        "    url = f\"https://api.telegram.org/bot{TELEGRAM_TOKEN}/sendMessage\"\n",
        "    try:\n",
        "        requests.post(url, data={\n",
        "            \"chat_id\": CHAT_ID,\n",
        "            \"text\": message,\n",
        "            \"parse_mode\": \"HTML\"   # برای ارسال تمیزتر\n",
        "        })\n",
        "    except Exception as e:\n",
        "        print(\"خطا در ارسال پیام:\", e)\n",
        "\n",
        "# -------------------------------\n",
        "# گرفتن لیست جفت ارزهای USDT از کوکوین\n",
        "# -------------------------------\n",
        "def get_usdt_pairs():\n",
        "    url = \"https://api.kucoin.com/api/v1/symbols\"\n",
        "    r = requests.get(url).json()\n",
        "    pairs = []\n",
        "    for s in r[\"data\"]:\n",
        "        if s[\"quoteCurrency\"] == \"USDT\" and s[\"enableTrading\"]:\n",
        "            symbol = s[\"symbol\"]\n",
        "            # حذف توکن‌های لوریج‌دار (3L, 3S, UP, DOWN)\n",
        "            if any(x in symbol for x in [\"3L\", \"3S\", \"UP\", \"DOWN\"]):\n",
        "                continue\n",
        "            pairs.append(symbol)\n",
        "    return pairs\n",
        "\n",
        "# -------------------------------\n",
        "# گرفتن کندل روزانه ۲۰ روز آخر\n",
        "# -------------------------------\n",
        "def get_klines(symbol: str):\n",
        "    url = f\"https://api.kucoin.com/api/v1/market/candles?type=1day&symbol={symbol}\"\n",
        "    r = requests.get(url).json()\n",
        "    if r.get(\"data\"):\n",
        "        return r[\"data\"][:21]  # ۲۰ روز گذشته + امروز\n",
        "    return []\n",
        "\n",
        "# -------------------------------\n",
        "# فیلتر حجم غیرعادی + رشد قیمت\n",
        "# -------------------------------\n",
        "def check_symbol(symbol: str):\n",
        "    data = get_klines(symbol)\n",
        "    if len(data) < 21:\n",
        "        return None\n",
        "\n",
        "    # ساختار دیتا: [time, open, close, high, low, volume, turnover]\n",
        "    today = data[0]\n",
        "    past20 = data[1:]\n",
        "\n",
        "    today_open = float(today[1])\n",
        "    today_close = float(today[2])\n",
        "    today_volume = float(today[5])\n",
        "\n",
        "    avg_volume_20 = sum(float(d[5]) for d in past20) / len(past20)\n",
        "    price_change = (today_close - today_open) / today_open * 100\n",
        "\n",
        "    if price_change > PRICE_CHANGE_MIN and today_volume > VOLUME_MULTIPLIER * avg_volume_20:\n",
        "        return (\n",
        "            f\"🚀 <b>سیگنال KuCoin</b>\\n\"\n",
        "            f\"📊 جفت‌ارز: <b>{symbol}</b>\\n\"\n",
        "            f\"📈 رشد: <b>{price_change:.2f}%</b>\\n\"\n",
        "            f\"🔹 حجم امروز: <b>{today_volume:.2f}</b>\\n\"\n",
        "            f\"🔹 میانگین ۲۰ روز: <b>{avg_volume_20:.2f}</b>\"\n",
        "        )\n",
        "    return None\n",
        "\n",
        "# -------------------------------\n",
        "# اجرای ربات\n",
        "# -------------------------------\n",
        "def run():\n",
        "    pairs = get_usdt_pairs()\n",
        "    for symbol in pairs:\n",
        "        try:\n",
        "            msg = check_symbol(symbol)\n",
        "            if msg:\n",
        "                send_telegram(msg)\n",
        "                print(\"ارسال شد:\", symbol)\n",
        "        except Exception as e:\n",
        "            print(\"خطا در\", symbol, \":\", e)\n",
        "\n",
        "# اجرای هر ۲۴ ساعت\n",
        "if __name__ == \"__main__\":\n",
        "    while True:\n",
        "        print(\"شروع بررسی:\", datetime.datetime.now())\n",
        "        run()\n",
        "        print(\"پایان - صبر تا فردا\")\n",
        "        time.sleep(24 * 60 * 60)  # هر روز یک بار"
      ]
    }
  ],
  "metadata": {
    "colab": {
      "provenance": [],
      "authorship_tag": "ABX9TyNKlwadRfBzRvf/+9/TMAfw",
      "include_colab_link": true
    },
    "kernelspec": {
      "display_name": "Python 3",
      "name": "python3"
    },
    "language_info": {
      "name": "python"
    }
  },
  "nbformat": 4,
  "nbformat_minor": 0
}